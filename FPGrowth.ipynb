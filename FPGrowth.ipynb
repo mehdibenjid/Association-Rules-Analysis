{
 "cells": [
  {
   "cell_type": "markdown",
   "metadata": {},
   "source": [
    "## 3. **FP-Growth Algorithm**\n",
    "\n",
    "The **FP-Growth (Frequent Pattern Growth)** algorithm is a more efficient alternative to the Apriori Algorithm. It avoids the costly process of generating candidate itemsets by using a compressed representation of the dataset called the **FP-tree (Frequent Pattern Tree)**.\n",
    "\n",
    "### Steps in FP-Growth:\n",
    "1. **Construct the FP-Tree**:\n",
    "   - Scan the dataset once to determine the frequency of individual items and discard infrequent items.\n",
    "   - Build the FP-Tree by organizing transactions into a compact structure, where each node in the tree represents an item and its occurrence count.\n",
    "\n",
    "2. **Mine Frequent Itemsets from the FP-Tree**:\n",
    "   - The FP-Growth algorithm recursively mines the FP-Tree to find all frequent itemsets, without generating candidate itemsets explicitly.\n",
    "\n",
    "### Example of FP-Growth:\n",
    "\n",
    "### Example:\n",
    "1. Consider a dataset where we have the following transactions:\n",
    "   - Transaction 1: $\\{ \\text{bread, milk} \\}$\n",
    "   - Transaction 2: $\\{ \\text{bread, butter, milk} \\}$\n",
    "   - Transaction 3: $\\{ \\text{butter, eggs} \\}$\n",
    "   - Transaction 4: $\\{ \\text{bread, butter} \\}$\n",
    "   - Transaction 5: $\\{ \\text{bread, eggs, milk} \\}$\n",
    "   \n",
    "\n",
    "The FP-Growth algorithm will first build a compact FP-Tree to represent the dataset. By traversing this tree, the algorithm efficiently mines frequent patterns without repeatedly scanning the dataset.\n",
    "\n",
    "### Advantages of FP-Growth:\n",
    "- Much faster than the Apriori Algorithm, especially for large datasets.\n",
    "- Avoids generating large numbers of candidate itemsets.\n",
    "- Uses a compact representation of the dataset, reducing memory usage.\n",
    "\n",
    "### Limitations of FP-Growth:\n",
    "- Constructing the FP-Tree can be complex and may not fit into memory for very large datasets.\n",
    "- More difficult to implement than Apriori.\n",
    "\n",
    "---\n",
    "\n",
    "## 4. Comparison: Apriori vs. FP-Growth\n",
    "\n",
    "| Feature                   | Apriori                         | FP-Growth                        |\n",
    "|---------------------------|----------------------------------|----------------------------------|\n",
    "| **Approach**               | Candidate generation and pruning| Tree-based mining                |\n",
    "| **Efficiency**             | Slower for large datasets       | Faster and more scalable         |\n",
    "| **Memory Usage**           | High (due to candidate itemsets)| Low (compact FP-tree structure)  |\n",
    "| **Scalability**            | Less scalable                   | Highly scalable for large datasets|\n",
    "| **Ease of Implementation** | Simple to implement             | More complex to implement        |\n",
    "\n",
    "---"
   ]
  },
  {
   "cell_type": "markdown",
   "metadata": {},
   "source": [
    "## Setup\n",
    "Import necessary libraries"
   ]
  },
  {
   "cell_type": "code",
   "execution_count": null,
   "metadata": {},
   "outputs": [],
   "source": [
    "!pip install mlxtend"
   ]
  },
  {
   "cell_type": "code",
   "execution_count": 1,
   "metadata": {},
   "outputs": [],
   "source": [
    "import pandas as pd\n",
    "from mlxtend.frequent_patterns import fpgrowth, association_rules\n",
    "from mlxtend.preprocessing import TransactionEncoder"
   ]
  },
  {
   "cell_type": "markdown",
   "metadata": {},
   "source": [
    "## Prepare the Dataset\n",
    "Generate the dummy dataset and convert the dataset into a one-hot encoded format."
   ]
  },
  {
   "cell_type": "code",
   "execution_count": 2,
   "metadata": {},
   "outputs": [
    {
     "name": "stdout",
     "output_type": "stream",
     "text": [
      "   Bread  Butter   Eggs   Milk\n",
      "0   True   False   True   True\n",
      "1   True    True   True  False\n",
      "2  False   False   True   True\n",
      "3   True    True   True   True\n",
      "4   True   False  False   True\n",
      "5   True   False   True  False\n",
      "6   True    True  False   True\n"
     ]
    }
   ],
   "source": [
    "# Sample dataset (list of transactions)\n",
    "dataset = [\n",
    "    ['Milk', 'Bread', 'Eggs'],\n",
    "    ['Bread', 'Eggs', 'Butter'],\n",
    "    ['Milk', 'Eggs'],\n",
    "    ['Milk', 'Bread', 'Eggs', 'Butter'],\n",
    "    ['Milk', 'Bread'],\n",
    "    ['Bread', 'Eggs'],\n",
    "    ['Milk', 'Bread', 'Butter'],\n",
    "]\n",
    "\n",
    "# Convert the dataset into a one-hot encoded format\n",
    "te = TransactionEncoder()\n",
    "te_ary = te.fit(dataset).transform(dataset)\n",
    "df = pd.DataFrame(te_ary, columns=te.columns_)\n",
    "print(df)"
   ]
  },
  {
   "cell_type": "markdown",
   "metadata": {},
   "source": [
    "## Apply FP-growth to find frequent itemsets."
   ]
  },
  {
   "cell_type": "code",
   "execution_count": 3,
   "metadata": {},
   "outputs": [
    {
     "name": "stdout",
     "output_type": "stream",
     "text": [
      "    support         itemsets\n",
      "0  0.857143          (Bread)\n",
      "1  0.714286           (Milk)\n",
      "2  0.714286           (Eggs)\n",
      "3  0.428571         (Butter)\n",
      "4  0.571429    (Milk, Bread)\n",
      "5  0.571429    (Eggs, Bread)\n",
      "6  0.428571     (Milk, Eggs)\n",
      "7  0.428571  (Butter, Bread)\n"
     ]
    }
   ],
   "source": [
    "# Apply FP-growth to find frequent itemsets\n",
    "frequent_itemsets = fpgrowth(df, min_support=0.4, use_colnames=True)\n",
    "\n",
    "print(frequent_itemsets)"
   ]
  },
  {
   "cell_type": "markdown",
   "metadata": {},
   "source": [
    "## Mine association rules from frequent itemsets."
   ]
  },
  {
   "cell_type": "code",
   "execution_count": 4,
   "metadata": {},
   "outputs": [
    {
     "name": "stdout",
     "output_type": "stream",
     "text": [
      "\n",
      "Association Rules:\n",
      "  antecedents consequents   support  confidence      lift\n",
      "0      (Milk)     (Bread)  0.571429    0.800000  0.933333\n",
      "1     (Bread)      (Milk)  0.571429    0.666667  0.933333\n",
      "2      (Eggs)     (Bread)  0.571429    0.800000  0.933333\n",
      "3     (Bread)      (Eggs)  0.571429    0.666667  0.933333\n",
      "4      (Milk)      (Eggs)  0.428571    0.600000  0.840000\n",
      "5      (Eggs)      (Milk)  0.428571    0.600000  0.840000\n",
      "6    (Butter)     (Bread)  0.428571    1.000000  1.166667\n"
     ]
    }
   ],
   "source": [
    "# Generate association rules with minimum confidence threshold (e.g., 0.6)\n",
    "min_confidence = 0.6\n",
    "association_rules_df = association_rules(frequent_itemsets, metric=\"confidence\", min_threshold=min_confidence)\n",
    "\n",
    "print(\"\\nAssociation Rules:\")\n",
    "print(association_rules_df[['antecedents', 'consequents', 'support', 'confidence','lift']])\n"
   ]
  }
 ],
 "metadata": {
  "kernelspec": {
   "display_name": "venv",
   "language": "python",
   "name": "python3"
  },
  "language_info": {
   "codemirror_mode": {
    "name": "ipython",
    "version": 3
   },
   "file_extension": ".py",
   "mimetype": "text/x-python",
   "name": "python",
   "nbconvert_exporter": "python",
   "pygments_lexer": "ipython3",
   "version": "3.12.4"
  }
 },
 "nbformat": 4,
 "nbformat_minor": 2
}
